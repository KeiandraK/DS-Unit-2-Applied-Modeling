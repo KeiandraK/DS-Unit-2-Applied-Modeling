{
  "nbformat": 4,
  "nbformat_minor": 0,
  "metadata": {
    "kernelspec": {
      "display_name": "Python 3",
      "language": "python",
      "name": "python3"
    },
    "language_info": {
      "codemirror_mode": {
        "name": "ipython",
        "version": 3
      },
      "file_extension": ".py",
      "mimetype": "text/x-python",
      "name": "python",
      "nbconvert_exporter": "python",
      "pygments_lexer": "ipython3",
      "version": "3.7.3"
    },
    "colab": {
      "name": "Keiandra_King_DS_Sprint_Challenge_7.ipynb",
      "provenance": [],
      "collapsed_sections": [],
      "include_colab_link": true
    }
  },
  "cells": [
    {
      "cell_type": "markdown",
      "metadata": {
        "id": "view-in-github",
        "colab_type": "text"
      },
      "source": [
        "<a href=\"https://colab.research.google.com/github/KeiandraK/DS-Unit-2-Applied-Modeling/blob/master/Keiandra_King_DS_Sprint_Challenge_7.ipynb\" target=\"_parent\"><img src=\"https://colab.research.google.com/assets/colab-badge.svg\" alt=\"Open In Colab\"/></a>"
      ]
    },
    {
      "cell_type": "markdown",
      "metadata": {
        "colab_type": "text",
        "id": "Kz9V5lVFMo86"
      },
      "source": [
        "_Lambda School Data Science, Unit 2_\n",
        "\n",
        "# Applied Modeling Sprint Challenge: Predict Chicago food inspections 🍔"
      ]
    },
    {
      "cell_type": "markdown",
      "metadata": {
        "colab_type": "text",
        "id": "yWOjtM9iMo87"
      },
      "source": [
        "For this Sprint Challenge, you'll use a dataset with information from inspections of restaurants and other food establishments in Chicago from January 2010 to March 2019. \n",
        "\n",
        "[See this PDF](https://data.cityofchicago.org/api/assets/BAD5301B-681A-4202-9D25-51B2CAE672FF) for descriptions of the data elements included in this dataset.\n",
        "\n",
        "According to [Chicago Department of Public Health — Food Protection Services](https://www.chicago.gov/city/en/depts/cdph/provdrs/healthy_restaurants/svcs/food-protection-services.html), \"Chicago is home to 16,000 food establishments like restaurants, grocery stores, bakeries, wholesalers, lunchrooms, mobile food vendors and more. Our business is food safety and sanitation with one goal, to prevent the spread of food-borne disease. We do this by inspecting food businesses, responding to complaints and food recalls.\" "
      ]
    },
    {
      "cell_type": "markdown",
      "metadata": {
        "colab_type": "text",
        "id": "VvBYdx2xMo88"
      },
      "source": [
        "#### Your challenge: Predict whether inspections failed\n",
        "\n",
        "The target is the `Fail` column.\n",
        "\n",
        "- When the food establishment failed the inspection, the target is `1`.\n",
        "- When the establishment passed, the target is `0`."
      ]
    },
    {
      "cell_type": "markdown",
      "metadata": {
        "colab_type": "text",
        "id": "3YMtu4LaF8Jq"
      },
      "source": [
        "#### Run this cell to install packages in Colab:"
      ]
    },
    {
      "cell_type": "code",
      "metadata": {
        "colab_type": "code",
        "id": "vWyiJKQgF6ax",
        "colab": {}
      },
      "source": [
        "%%capture\n",
        "import sys\n",
        "\n",
        "if 'google.colab' in sys.modules:\n",
        "    # Install packages in Colab\n",
        "    !pip install category_encoders==2.*\n",
        "    !pip install eli5\n",
        "    !pip install pandas-profiling==2.*\n",
        "    !pip install pdpbox\n",
        "    !pip install shap"
      ],
      "execution_count": 0,
      "outputs": []
    },
    {
      "cell_type": "markdown",
      "metadata": {
        "colab_type": "text",
        "id": "Na5IvRq1Mo89"
      },
      "source": [
        "#### Run this cell to load the data:"
      ]
    },
    {
      "cell_type": "code",
      "metadata": {
        "colab_type": "code",
        "id": "Yyc7zftTMo89",
        "colab": {}
      },
      "source": [
        "import pandas as pd\n",
        "\n",
        "train_url = 'https://drive.google.com/uc?export=download&id=13_tP9JpLcZHSPVpWcua4t2rY44K_s4H5'\n",
        "test_url  = 'https://drive.google.com/uc?export=download&id=1GkDHjsiGrzOXoF_xcYjdzBTSjOIi3g5a'\n",
        "\n",
        "train = pd.read_csv(train_url)\n",
        "test  = pd.read_csv(test_url)\n",
        "\n",
        "assert train.shape == (51916, 17)\n",
        "assert test.shape  == (17306, 17)"
      ],
      "execution_count": 0,
      "outputs": []
    },
    {
      "cell_type": "markdown",
      "metadata": {
        "colab_type": "text",
        "id": "8EhbzqgfMo9A"
      },
      "source": [
        "### Part 1: Preprocessing\n",
        "\n",
        "You may choose which features you want to use, and whether/how you will preprocess them. If you use categorical features, you may use any tools and techniques for encoding.\n",
        "\n",
        "_To earn a score of 3 for this part, find and explain leakage. The dataset has a feature that will give you an ROC AUC score > 0.90 if you process and use the feature. Find the leakage and explain why the feature shouldn't be used in a real-world model to predict the results of future inspections._\n",
        "\n",
        "### Part 2: Modeling\n",
        "\n",
        "**Fit a model** with the train set. (You may use scikit-learn, xgboost, or any other library.) Use cross-validation or do a three-way split (train/validate/test) and **estimate your ROC AUC** validation score.\n",
        "\n",
        "Use your model to **predict probabilities** for the test set. **Get an ROC AUC test score >= 0.60.**\n",
        "\n",
        "_To earn a score of 3 for this part, get an ROC AUC test score >= 0.70 (without using the feature with leakage)._\n",
        "\n",
        "\n",
        "### Part 3: Visualization\n",
        "\n",
        "Make visualizations for model interpretation. (You may use any libraries.) Choose two of these types:\n",
        "\n",
        "- Confusion Matrix\n",
        "- Permutation Importances\n",
        "- Partial Dependence Plot, 1 feature isolation\n",
        "- Partial Dependence Plot, 2 features interaction\n",
        "- Shapley Values\n",
        "\n",
        "_To earn a score of 3 for this part, make four of these visualization types._"
      ]
    },
    {
      "cell_type": "markdown",
      "metadata": {
        "colab_type": "text",
        "id": "muEIQ4EPGVH_"
      },
      "source": [
        "## Part 1: Preprocessing\n",
        "\n",
        "> You may choose which features you want to use, and whether/how you will preprocess them. If you use categorical features, you may use any tools and techniques for encoding."
      ]
    },
    {
      "cell_type": "code",
      "metadata": {
        "colab_type": "code",
        "id": "Ao1PDJtpIWwp",
        "colab": {
          "base_uri": "https://localhost:8080/",
          "height": 1000
        },
        "outputId": "758b41da-cfc0-42db-939a-6cbf81959f4e"
      },
      "source": [
        "#Analyzing the data to determine which feature is best to use\n",
        "train.head(25)"
      ],
      "execution_count": 4,
      "outputs": [
        {
          "output_type": "execute_result",
          "data": {
            "text/html": [
              "<div>\n",
              "<style scoped>\n",
              "    .dataframe tbody tr th:only-of-type {\n",
              "        vertical-align: middle;\n",
              "    }\n",
              "\n",
              "    .dataframe tbody tr th {\n",
              "        vertical-align: top;\n",
              "    }\n",
              "\n",
              "    .dataframe thead th {\n",
              "        text-align: right;\n",
              "    }\n",
              "</style>\n",
              "<table border=\"1\" class=\"dataframe\">\n",
              "  <thead>\n",
              "    <tr style=\"text-align: right;\">\n",
              "      <th></th>\n",
              "      <th>Inspection ID</th>\n",
              "      <th>DBA Name</th>\n",
              "      <th>AKA Name</th>\n",
              "      <th>License #</th>\n",
              "      <th>Facility Type</th>\n",
              "      <th>Risk</th>\n",
              "      <th>Address</th>\n",
              "      <th>City</th>\n",
              "      <th>State</th>\n",
              "      <th>Zip</th>\n",
              "      <th>Inspection Date</th>\n",
              "      <th>Inspection Type</th>\n",
              "      <th>Violations</th>\n",
              "      <th>Latitude</th>\n",
              "      <th>Longitude</th>\n",
              "      <th>Location</th>\n",
              "      <th>Fail</th>\n",
              "    </tr>\n",
              "  </thead>\n",
              "  <tbody>\n",
              "    <tr>\n",
              "      <th>0</th>\n",
              "      <td>2088270</td>\n",
              "      <td>TOM YUM RICE &amp; NOODLE, INC.</td>\n",
              "      <td>TOM YUM CAFE</td>\n",
              "      <td>2354911.0</td>\n",
              "      <td>Restaurant</td>\n",
              "      <td>Risk 1 (High)</td>\n",
              "      <td>608 W BARRY</td>\n",
              "      <td>CHICAGO</td>\n",
              "      <td>IL</td>\n",
              "      <td>60657.0</td>\n",
              "      <td>2017-09-15T00:00:00</td>\n",
              "      <td>Canvass</td>\n",
              "      <td>3. POTENTIALLY HAZARDOUS FOOD MEETS TEMPERATUR...</td>\n",
              "      <td>41.938007</td>\n",
              "      <td>-87.644755</td>\n",
              "      <td>{'longitude': '-87.6447545707008', 'latitude':...</td>\n",
              "      <td>1</td>\n",
              "    </tr>\n",
              "    <tr>\n",
              "      <th>1</th>\n",
              "      <td>555268</td>\n",
              "      <td>FILLING STATION  &amp; CONVENIENCE  STORE</td>\n",
              "      <td>FILLING STATION  &amp; CONVENIENCE  STORE</td>\n",
              "      <td>1044901.0</td>\n",
              "      <td>Grocery Store</td>\n",
              "      <td>Risk 3 (Low)</td>\n",
              "      <td>6646-6658 S WESTERN AVE</td>\n",
              "      <td>CHICAGO</td>\n",
              "      <td>IL</td>\n",
              "      <td>60636.0</td>\n",
              "      <td>2011-10-20T00:00:00</td>\n",
              "      <td>Complaint Re-Inspection</td>\n",
              "      <td>32. FOOD AND NON-FOOD CONTACT SURFACES PROPERL...</td>\n",
              "      <td>41.772402</td>\n",
              "      <td>-87.683603</td>\n",
              "      <td>{'longitude': '-87.68360273081268', 'latitude'...</td>\n",
              "      <td>0</td>\n",
              "    </tr>\n",
              "    <tr>\n",
              "      <th>2</th>\n",
              "      <td>1751394</td>\n",
              "      <td>A P DELI</td>\n",
              "      <td>A P DELI</td>\n",
              "      <td>47405.0</td>\n",
              "      <td>Restaurant</td>\n",
              "      <td>Risk 1 (High)</td>\n",
              "      <td>2025 E 75TH ST</td>\n",
              "      <td>CHICAGO</td>\n",
              "      <td>IL</td>\n",
              "      <td>60649.0</td>\n",
              "      <td>2016-04-05T00:00:00</td>\n",
              "      <td>Canvass Re-Inspection</td>\n",
              "      <td>35. WALLS, CEILINGS, ATTACHED EQUIPMENT CONSTR...</td>\n",
              "      <td>41.758779</td>\n",
              "      <td>-87.575054</td>\n",
              "      <td>{'longitude': '-87.57505446746121', 'latitude'...</td>\n",
              "      <td>0</td>\n",
              "    </tr>\n",
              "    <tr>\n",
              "      <th>3</th>\n",
              "      <td>1763905</td>\n",
              "      <td>FRANK'S CHICAGO SHRIMP HOUSE</td>\n",
              "      <td>FRANK'S CHICAGO SHRIMP HOUSE</td>\n",
              "      <td>6414.0</td>\n",
              "      <td>Restaurant</td>\n",
              "      <td>Risk 2 (Medium)</td>\n",
              "      <td>4459 S ARCHER AVE</td>\n",
              "      <td>CHICAGO</td>\n",
              "      <td>IL</td>\n",
              "      <td>60632.0</td>\n",
              "      <td>2016-04-29T00:00:00</td>\n",
              "      <td>Canvass</td>\n",
              "      <td>38. VENTILATION: ROOMS AND EQUIPMENT VENTED AS...</td>\n",
              "      <td>41.812181</td>\n",
              "      <td>-87.707125</td>\n",
              "      <td>{'longitude': '-87.70712481334274', 'latitude'...</td>\n",
              "      <td>0</td>\n",
              "    </tr>\n",
              "    <tr>\n",
              "      <th>4</th>\n",
              "      <td>453326</td>\n",
              "      <td>MORRILL</td>\n",
              "      <td>MORRILL</td>\n",
              "      <td>24571.0</td>\n",
              "      <td>School</td>\n",
              "      <td>Risk 1 (High)</td>\n",
              "      <td>6011 S Rockwell (2600W) AVE</td>\n",
              "      <td>CHICAGO</td>\n",
              "      <td>IL</td>\n",
              "      <td>60629.0</td>\n",
              "      <td>2011-01-10T00:00:00</td>\n",
              "      <td>Canvass</td>\n",
              "      <td>34. FLOORS: CONSTRUCTED PER CODE, CLEANED, GOO...</td>\n",
              "      <td>NaN</td>\n",
              "      <td>NaN</td>\n",
              "      <td>NaN</td>\n",
              "      <td>0</td>\n",
              "    </tr>\n",
              "    <tr>\n",
              "      <th>5</th>\n",
              "      <td>1725221</td>\n",
              "      <td>LAKEVIEW REHABILITATION AND NURSING CENTER</td>\n",
              "      <td>LAKEVIEW REHABILITATION AND NURSING CENTER</td>\n",
              "      <td>2245580.0</td>\n",
              "      <td>Long Term Care</td>\n",
              "      <td>Risk 1 (High)</td>\n",
              "      <td>735 W DIVERSEY PKWY</td>\n",
              "      <td>CHICAGO</td>\n",
              "      <td>IL</td>\n",
              "      <td>60614.0</td>\n",
              "      <td>2016-02-22T00:00:00</td>\n",
              "      <td>Canvass</td>\n",
              "      <td>31. CLEAN MULTI-USE UTENSILS AND SINGLE SERVIC...</td>\n",
              "      <td>41.932632</td>\n",
              "      <td>-87.647973</td>\n",
              "      <td>{'longitude': '-87.64797278441709', 'latitude'...</td>\n",
              "      <td>0</td>\n",
              "    </tr>\n",
              "    <tr>\n",
              "      <th>6</th>\n",
              "      <td>1981372</td>\n",
              "      <td>GOLD COAST DOGS</td>\n",
              "      <td>GOLD COAST DOGS</td>\n",
              "      <td>32318.0</td>\n",
              "      <td>Restaurant</td>\n",
              "      <td>Risk 2 (Medium)</td>\n",
              "      <td>225 S CANAL ST</td>\n",
              "      <td>CHICAGO</td>\n",
              "      <td>IL</td>\n",
              "      <td>60606.0</td>\n",
              "      <td>2017-01-12T00:00:00</td>\n",
              "      <td>Canvass</td>\n",
              "      <td>30. FOOD IN ORIGINAL CONTAINER, PROPERLY LABEL...</td>\n",
              "      <td>41.878531</td>\n",
              "      <td>-87.639427</td>\n",
              "      <td>{'longitude': '-87.63942745962717', 'latitude'...</td>\n",
              "      <td>0</td>\n",
              "    </tr>\n",
              "    <tr>\n",
              "      <th>7</th>\n",
              "      <td>1072403</td>\n",
              "      <td>HAPPY PIZZA</td>\n",
              "      <td>NaN</td>\n",
              "      <td>2241028.0</td>\n",
              "      <td>Restaurant</td>\n",
              "      <td>Risk 1 (High)</td>\n",
              "      <td>8710 S HALSTED ST</td>\n",
              "      <td>CHICAGO</td>\n",
              "      <td>IL</td>\n",
              "      <td>60620.0</td>\n",
              "      <td>2013-05-07T00:00:00</td>\n",
              "      <td>License Re-Inspection</td>\n",
              "      <td>38. VENTILATION: ROOMS AND EQUIPMENT VENTED AS...</td>\n",
              "      <td>41.735505</td>\n",
              "      <td>-87.643749</td>\n",
              "      <td>{'longitude': '-87.64374906595162', 'latitude'...</td>\n",
              "      <td>0</td>\n",
              "    </tr>\n",
              "    <tr>\n",
              "      <th>8</th>\n",
              "      <td>1464616</td>\n",
              "      <td>THE PUMPING CO INC</td>\n",
              "      <td>THE PUMPING CO</td>\n",
              "      <td>1544937.0</td>\n",
              "      <td>Restaurant</td>\n",
              "      <td>Risk 1 (High)</td>\n",
              "      <td>6157 N BROADWAY</td>\n",
              "      <td>CHICAGO</td>\n",
              "      <td>IL</td>\n",
              "      <td>60660.0</td>\n",
              "      <td>2014-11-28T00:00:00</td>\n",
              "      <td>Canvass</td>\n",
              "      <td>16. FOOD PROTECTED DURING STORAGE, PREPARATION...</td>\n",
              "      <td>41.993973</td>\n",
              "      <td>-87.660242</td>\n",
              "      <td>{'longitude': '-87.66024237516903', 'latitude'...</td>\n",
              "      <td>1</td>\n",
              "    </tr>\n",
              "    <tr>\n",
              "      <th>9</th>\n",
              "      <td>583261</td>\n",
              "      <td>YUMMY YUMMY NOODLES</td>\n",
              "      <td>YUMMY YUMMY NOODLES</td>\n",
              "      <td>2098003.0</td>\n",
              "      <td>Restaurant</td>\n",
              "      <td>Risk 1 (High)</td>\n",
              "      <td>2002 S WENTWORTH AVE</td>\n",
              "      <td>CHICAGO</td>\n",
              "      <td>IL</td>\n",
              "      <td>60616.0</td>\n",
              "      <td>2011-06-01T00:00:00</td>\n",
              "      <td>License</td>\n",
              "      <td>18. NO EVIDENCE OF RODENT OR INSECT OUTER OPEN...</td>\n",
              "      <td>41.855282</td>\n",
              "      <td>-87.631993</td>\n",
              "      <td>{'longitude': '-87.63199264229414', 'latitude'...</td>\n",
              "      <td>1</td>\n",
              "    </tr>\n",
              "    <tr>\n",
              "      <th>10</th>\n",
              "      <td>1516695</td>\n",
              "      <td>PETE'S MARKET</td>\n",
              "      <td>PETE'S MARKET</td>\n",
              "      <td>36823.0</td>\n",
              "      <td>Grocery Store</td>\n",
              "      <td>Risk 1 (High)</td>\n",
              "      <td>5724 S KEDZIE AVE</td>\n",
              "      <td>CHICAGO</td>\n",
              "      <td>IL</td>\n",
              "      <td>60629.0</td>\n",
              "      <td>2015-11-30T00:00:00</td>\n",
              "      <td>Complaint</td>\n",
              "      <td>34. FLOORS: CONSTRUCTED PER CODE, CLEANED, GOO...</td>\n",
              "      <td>41.789113</td>\n",
              "      <td>-87.703580</td>\n",
              "      <td>{'longitude': '-87.70357972660756', 'latitude'...</td>\n",
              "      <td>0</td>\n",
              "    </tr>\n",
              "    <tr>\n",
              "      <th>11</th>\n",
              "      <td>166332</td>\n",
              "      <td>GRAND TRIPLE CROWN</td>\n",
              "      <td>GRAND TRIPLE CROWN</td>\n",
              "      <td>1878843.0</td>\n",
              "      <td>Restaurant</td>\n",
              "      <td>Risk 1 (High)</td>\n",
              "      <td>3034 S HALSTED ST</td>\n",
              "      <td>CHICAGO</td>\n",
              "      <td>IL</td>\n",
              "      <td>60608.0</td>\n",
              "      <td>2011-04-04T00:00:00</td>\n",
              "      <td>Short Form Complaint</td>\n",
              "      <td>NaN</td>\n",
              "      <td>41.838812</td>\n",
              "      <td>-87.646443</td>\n",
              "      <td>{'longitude': '-87.64644307835215', 'latitude'...</td>\n",
              "      <td>0</td>\n",
              "    </tr>\n",
              "    <tr>\n",
              "      <th>12</th>\n",
              "      <td>1982990</td>\n",
              "      <td>MARK TWAIN ELEMENTARY</td>\n",
              "      <td>MARK TWAIN ELEMENTARY</td>\n",
              "      <td>25661.0</td>\n",
              "      <td>School</td>\n",
              "      <td>Risk 1 (High)</td>\n",
              "      <td>5134 S LOTUS</td>\n",
              "      <td>CHICAGO</td>\n",
              "      <td>IL</td>\n",
              "      <td>60638.0</td>\n",
              "      <td>2017-02-10T00:00:00</td>\n",
              "      <td>Canvass Re-Inspection</td>\n",
              "      <td>NaN</td>\n",
              "      <td>41.799052</td>\n",
              "      <td>-87.758965</td>\n",
              "      <td>{'longitude': '-87.75896524463428', 'latitude'...</td>\n",
              "      <td>0</td>\n",
              "    </tr>\n",
              "    <tr>\n",
              "      <th>13</th>\n",
              "      <td>635040</td>\n",
              "      <td>MS EGGROLL #2 STAR INC.</td>\n",
              "      <td>MS EGGROLL #2</td>\n",
              "      <td>2089284.0</td>\n",
              "      <td>Restaurant</td>\n",
              "      <td>Risk 1 (High)</td>\n",
              "      <td>6966 N GLENWOOD AVE</td>\n",
              "      <td>CHICAGO</td>\n",
              "      <td>IL</td>\n",
              "      <td>60626.0</td>\n",
              "      <td>2011-10-21T00:00:00</td>\n",
              "      <td>Complaint</td>\n",
              "      <td>31. CLEAN MULTI-USE UTENSILS AND SINGLE SERVIC...</td>\n",
              "      <td>42.008692</td>\n",
              "      <td>-87.666350</td>\n",
              "      <td>{'longitude': '-87.66634975283057', 'latitude'...</td>\n",
              "      <td>0</td>\n",
              "    </tr>\n",
              "    <tr>\n",
              "      <th>14</th>\n",
              "      <td>1445382</td>\n",
              "      <td>POLK &amp; WESTERN HOT DOG STAND</td>\n",
              "      <td>POLK &amp; WESTERN HOT DOG STAND</td>\n",
              "      <td>2362987.0</td>\n",
              "      <td>Restaurant</td>\n",
              "      <td>Risk 1 (High)</td>\n",
              "      <td>749 S WESTERN AVE</td>\n",
              "      <td>CHICAGO</td>\n",
              "      <td>IL</td>\n",
              "      <td>60612.0</td>\n",
              "      <td>2015-12-10T00:00:00</td>\n",
              "      <td>Canvass</td>\n",
              "      <td>38. VENTILATION: ROOMS AND EQUIPMENT VENTED AS...</td>\n",
              "      <td>41.871611</td>\n",
              "      <td>-87.686030</td>\n",
              "      <td>{'longitude': '-87.6860303713524', 'latitude':...</td>\n",
              "      <td>0</td>\n",
              "    </tr>\n",
              "    <tr>\n",
              "      <th>15</th>\n",
              "      <td>2071751</td>\n",
              "      <td>VICEROY HOTEL</td>\n",
              "      <td>VICEROY HOTEL</td>\n",
              "      <td>2535449.0</td>\n",
              "      <td>Liquor</td>\n",
              "      <td>Risk 3 (Low)</td>\n",
              "      <td>1118 N STATE ST</td>\n",
              "      <td>CHICAGO</td>\n",
              "      <td>IL</td>\n",
              "      <td>60610.0</td>\n",
              "      <td>2017-08-01T00:00:00</td>\n",
              "      <td>License</td>\n",
              "      <td>NaN</td>\n",
              "      <td>41.902312</td>\n",
              "      <td>-87.628497</td>\n",
              "      <td>{'longitude': '-87.62849738136275', 'latitude'...</td>\n",
              "      <td>0</td>\n",
              "    </tr>\n",
              "    <tr>\n",
              "      <th>16</th>\n",
              "      <td>1395548</td>\n",
              "      <td>JIMMY JOHN'S CLARK</td>\n",
              "      <td>JIMMY JOHN'S CLARK</td>\n",
              "      <td>1768647.0</td>\n",
              "      <td>Restaurant</td>\n",
              "      <td>Risk 1 (High)</td>\n",
              "      <td>28 N CLARK ST</td>\n",
              "      <td>CHICAGO</td>\n",
              "      <td>IL</td>\n",
              "      <td>60602.0</td>\n",
              "      <td>2014-01-17T00:00:00</td>\n",
              "      <td>Canvass</td>\n",
              "      <td>32. FOOD AND NON-FOOD CONTACT SURFACES PROPERL...</td>\n",
              "      <td>41.882651</td>\n",
              "      <td>-87.631053</td>\n",
              "      <td>{'longitude': '-87.63105264246144', 'latitude'...</td>\n",
              "      <td>0</td>\n",
              "    </tr>\n",
              "    <tr>\n",
              "      <th>17</th>\n",
              "      <td>422255</td>\n",
              "      <td>MINGHIN  CUISINE</td>\n",
              "      <td>MINGHIN  CUISINE</td>\n",
              "      <td>2031974.0</td>\n",
              "      <td>Restaurant</td>\n",
              "      <td>Risk 1 (High)</td>\n",
              "      <td>2168-2170 S ARCHER AVE</td>\n",
              "      <td>CHICAGO</td>\n",
              "      <td>IL</td>\n",
              "      <td>60616.0</td>\n",
              "      <td>2010-10-20T00:00:00</td>\n",
              "      <td>License</td>\n",
              "      <td>18. NO EVIDENCE OF RODENT OR INSECT OUTER OPEN...</td>\n",
              "      <td>41.853167</td>\n",
              "      <td>-87.634461</td>\n",
              "      <td>{'longitude': '-87.63446102872312', 'latitude'...</td>\n",
              "      <td>1</td>\n",
              "    </tr>\n",
              "    <tr>\n",
              "      <th>18</th>\n",
              "      <td>1464592</td>\n",
              "      <td>KFC</td>\n",
              "      <td>KFC</td>\n",
              "      <td>1695369.0</td>\n",
              "      <td>Restaurant</td>\n",
              "      <td>Risk 1 (High)</td>\n",
              "      <td>6732 N WESTERN AVE</td>\n",
              "      <td>CHICAGO</td>\n",
              "      <td>IL</td>\n",
              "      <td>60645.0</td>\n",
              "      <td>2014-11-20T00:00:00</td>\n",
              "      <td>Canvass</td>\n",
              "      <td>29. PREVIOUS MINOR VIOLATION(S) CORRECTED 7-42...</td>\n",
              "      <td>42.004195</td>\n",
              "      <td>-87.690197</td>\n",
              "      <td>{'longitude': '-87.6901967706285', 'latitude':...</td>\n",
              "      <td>1</td>\n",
              "    </tr>\n",
              "    <tr>\n",
              "      <th>19</th>\n",
              "      <td>1966651</td>\n",
              "      <td>Forum 55</td>\n",
              "      <td>Forum 55</td>\n",
              "      <td>1472957.0</td>\n",
              "      <td>Restaurant</td>\n",
              "      <td>Risk 1 (High)</td>\n",
              "      <td>55 E MONROE ST</td>\n",
              "      <td>CHICAGO</td>\n",
              "      <td>IL</td>\n",
              "      <td>60603.0</td>\n",
              "      <td>2016-10-18T00:00:00</td>\n",
              "      <td>Canvass Re-Inspection</td>\n",
              "      <td>32. FOOD AND NON-FOOD CONTACT SURFACES PROPERL...</td>\n",
              "      <td>41.880688</td>\n",
              "      <td>-87.625644</td>\n",
              "      <td>{'longitude': '-87.62564350408694', 'latitude'...</td>\n",
              "      <td>0</td>\n",
              "    </tr>\n",
              "    <tr>\n",
              "      <th>20</th>\n",
              "      <td>580400</td>\n",
              "      <td>ROTHSCHILD LIQUORS</td>\n",
              "      <td>ROTHSCHILD LIQUORS</td>\n",
              "      <td>21041.0</td>\n",
              "      <td>Liquor</td>\n",
              "      <td>Risk 3 (Low)</td>\n",
              "      <td>425 E 63RD ST</td>\n",
              "      <td>CHICAGO</td>\n",
              "      <td>IL</td>\n",
              "      <td>60637.0</td>\n",
              "      <td>2011-04-15T00:00:00</td>\n",
              "      <td>Canvass</td>\n",
              "      <td>16. FOOD PROTECTED DURING STORAGE, PREPARATION...</td>\n",
              "      <td>41.780148</td>\n",
              "      <td>-87.614552</td>\n",
              "      <td>{'longitude': '-87.61455213533162', 'latitude'...</td>\n",
              "      <td>1</td>\n",
              "    </tr>\n",
              "    <tr>\n",
              "      <th>21</th>\n",
              "      <td>1473446</td>\n",
              "      <td>EL NUEVO MEXICANO</td>\n",
              "      <td>EL NUEVO MEXICANO</td>\n",
              "      <td>1525.0</td>\n",
              "      <td>Restaurant</td>\n",
              "      <td>Risk 1 (High)</td>\n",
              "      <td>2914 N CLARK ST</td>\n",
              "      <td>CHICAGO</td>\n",
              "      <td>IL</td>\n",
              "      <td>60657.0</td>\n",
              "      <td>2014-06-06T00:00:00</td>\n",
              "      <td>Canvass</td>\n",
              "      <td>30. FOOD IN ORIGINAL CONTAINER, PROPERLY LABEL...</td>\n",
              "      <td>41.935182</td>\n",
              "      <td>-87.646987</td>\n",
              "      <td>{'longitude': '-87.64698740774581', 'latitude'...</td>\n",
              "      <td>0</td>\n",
              "    </tr>\n",
              "    <tr>\n",
              "      <th>22</th>\n",
              "      <td>2232615</td>\n",
              "      <td>MILD2 SPICY</td>\n",
              "      <td>MILD 2 SPICY</td>\n",
              "      <td>2536509.0</td>\n",
              "      <td>Restaurant</td>\n",
              "      <td>Risk 1 (High)</td>\n",
              "      <td>714 W DIVERSEY PKWY</td>\n",
              "      <td>CHICAGO</td>\n",
              "      <td>IL</td>\n",
              "      <td>60614.0</td>\n",
              "      <td>2018-10-31T00:00:00</td>\n",
              "      <td>Complaint</td>\n",
              "      <td>3. MANAGEMENT, FOOD EMPLOYEE AND CONDITIONAL E...</td>\n",
              "      <td>41.932864</td>\n",
              "      <td>-87.647246</td>\n",
              "      <td>{'longitude': '-87.64724608217887', 'latitude'...</td>\n",
              "      <td>1</td>\n",
              "    </tr>\n",
              "    <tr>\n",
              "      <th>23</th>\n",
              "      <td>2151190</td>\n",
              "      <td>WINGSTOP</td>\n",
              "      <td>WINGSTOP</td>\n",
              "      <td>2253834.0</td>\n",
              "      <td>Restaurant</td>\n",
              "      <td>Risk 1 (High)</td>\n",
              "      <td>2634 N CLARK ST</td>\n",
              "      <td>CHICAGO</td>\n",
              "      <td>IL</td>\n",
              "      <td>60614.0</td>\n",
              "      <td>2018-03-29T00:00:00</td>\n",
              "      <td>Canvass</td>\n",
              "      <td>29. PREVIOUS MINOR VIOLATION(S) CORRECTED 7-42...</td>\n",
              "      <td>41.930518</td>\n",
              "      <td>-87.643949</td>\n",
              "      <td>{'longitude': '-87.64394893189049', 'latitude'...</td>\n",
              "      <td>1</td>\n",
              "    </tr>\n",
              "    <tr>\n",
              "      <th>24</th>\n",
              "      <td>1631721</td>\n",
              "      <td>VEGAN NOW INC</td>\n",
              "      <td>VEGAN NOW</td>\n",
              "      <td>2447002.0</td>\n",
              "      <td>Restaurant</td>\n",
              "      <td>Risk 2 (Medium)</td>\n",
              "      <td>131 N CLINTON ST</td>\n",
              "      <td>CHICAGO</td>\n",
              "      <td>IL</td>\n",
              "      <td>60661.0</td>\n",
              "      <td>2016-02-16T00:00:00</td>\n",
              "      <td>License</td>\n",
              "      <td>NaN</td>\n",
              "      <td>41.884188</td>\n",
              "      <td>-87.641120</td>\n",
              "      <td>{'longitude': '-87.64111966683218', 'latitude'...</td>\n",
              "      <td>0</td>\n",
              "    </tr>\n",
              "  </tbody>\n",
              "</table>\n",
              "</div>"
            ],
            "text/plain": [
              "    Inspection ID  ... Fail\n",
              "0         2088270  ...    1\n",
              "1          555268  ...    0\n",
              "2         1751394  ...    0\n",
              "3         1763905  ...    0\n",
              "4          453326  ...    0\n",
              "5         1725221  ...    0\n",
              "6         1981372  ...    0\n",
              "7         1072403  ...    0\n",
              "8         1464616  ...    1\n",
              "9          583261  ...    1\n",
              "10        1516695  ...    0\n",
              "11         166332  ...    0\n",
              "12        1982990  ...    0\n",
              "13         635040  ...    0\n",
              "14        1445382  ...    0\n",
              "15        2071751  ...    0\n",
              "16        1395548  ...    0\n",
              "17         422255  ...    1\n",
              "18        1464592  ...    1\n",
              "19        1966651  ...    0\n",
              "20         580400  ...    1\n",
              "21        1473446  ...    0\n",
              "22        2232615  ...    1\n",
              "23        2151190  ...    1\n",
              "24        1631721  ...    0\n",
              "\n",
              "[25 rows x 17 columns]"
            ]
          },
          "metadata": {
            "tags": []
          },
          "execution_count": 4
        }
      ]
    },
    {
      "cell_type": "code",
      "metadata": {
        "id": "YoMecsx8_bSr",
        "colab_type": "code",
        "colab": {}
      },
      "source": [
        "import warnings\n",
        "warnings.filterwarnings(action='ignore', category=FutureWarning, module='xgboost')"
      ],
      "execution_count": 0,
      "outputs": []
    },
    {
      "cell_type": "code",
      "metadata": {
        "id": "EnUW1vkQ20UE",
        "colab_type": "code",
        "colab": {
          "base_uri": "https://localhost:8080/",
          "height": 310
        },
        "outputId": "91dca32f-8af9-44ce-819c-a6262e1ec174"
      },
      "source": [
        "# Checking for missing values\n",
        "train.isnull().sum()"
      ],
      "execution_count": 6,
      "outputs": [
        {
          "output_type": "execute_result",
          "data": {
            "text/plain": [
              "Inspection ID         0\n",
              "DBA Name              0\n",
              "AKA Name            623\n",
              "License #             5\n",
              "Facility Type       224\n",
              "Risk                 12\n",
              "Address               0\n",
              "City                 53\n",
              "State                10\n",
              "Zip                  26\n",
              "Inspection Date       0\n",
              "Inspection Type       1\n",
              "Violations         9655\n",
              "Latitude            198\n",
              "Longitude           198\n",
              "Location            198\n",
              "Fail                  0\n",
              "dtype: int64"
            ]
          },
          "metadata": {
            "tags": []
          },
          "execution_count": 6
        }
      ]
    },
    {
      "cell_type": "code",
      "metadata": {
        "id": "laXgiMoV4hys",
        "colab_type": "code",
        "colab": {
          "base_uri": "https://localhost:8080/",
          "height": 33
        },
        "outputId": "46f013f2-3060-40ac-be8c-cba2c65ad288"
      },
      "source": [
        "train.shape, test.shape"
      ],
      "execution_count": 7,
      "outputs": [
        {
          "output_type": "execute_result",
          "data": {
            "text/plain": [
              "((51916, 17), (17306, 17))"
            ]
          },
          "metadata": {
            "tags": []
          },
          "execution_count": 7
        }
      ]
    },
    {
      "cell_type": "code",
      "metadata": {
        "id": "k7DhC4zX6FPm",
        "colab_type": "code",
        "colab": {}
      },
      "source": [
        "train.drop(['Violations','City','State','Zip','AKA Name','Latitude', 'Longitude','Location'],axis = 1, inplace= True)"
      ],
      "execution_count": 0,
      "outputs": []
    },
    {
      "cell_type": "code",
      "metadata": {
        "id": "lwMj4bVvBI0C",
        "colab_type": "code",
        "colab": {}
      },
      "source": [
        "# First attempt to create pipeline was not sufficient so returned here to drop \n",
        "# Another column\n",
        "train.drop(['Facility Type'],axis=1, inplace = True)"
      ],
      "execution_count": 0,
      "outputs": []
    },
    {
      "cell_type": "code",
      "metadata": {
        "id": "_WKwlE_gCtzC",
        "colab_type": "code",
        "colab": {}
      },
      "source": [
        "# Second attemp to create pipeline failed \n",
        "# Dropping another column in hopes of completion of the pipeline\n",
        "train.drop(['Risk',],axis = 1, inplace = True)"
      ],
      "execution_count": 0,
      "outputs": []
    },
    {
      "cell_type": "code",
      "metadata": {
        "id": "V0iYdNshDb62",
        "colab_type": "code",
        "colab": {}
      },
      "source": [
        "# Third attempt to create pipeline\n",
        "# maybe getting rid of all the missing values may be the course of action\n",
        "train.drop(['License #'], axis = 1, inplace= True)\n",
        "# Third attempt was successfull "
      ],
      "execution_count": 0,
      "outputs": []
    },
    {
      "cell_type": "code",
      "metadata": {
        "id": "LlX0Q-YsEAiZ",
        "colab_type": "code",
        "colab": {}
      },
      "source": [
        "# Preprocessing all the high nan values away affectively helped pipeline\n",
        "# Violations was the leakage\n",
        "# The violations column tells why they failed and this is why it is the leakage"
      ],
      "execution_count": 0,
      "outputs": []
    },
    {
      "cell_type": "code",
      "metadata": {
        "id": "KvMg1jlk6SFD",
        "colab_type": "code",
        "colab": {
          "base_uri": "https://localhost:8080/",
          "height": 33
        },
        "outputId": "a6b90656-e66e-45ee-bec5-84c55b9f8616"
      },
      "source": [
        "# Do not want to lose some of the important features that help explain the data\n",
        "train.fillna(method='ffill')\n",
        "train.isnull().sum().sum()"
      ],
      "execution_count": 28,
      "outputs": [
        {
          "output_type": "execute_result",
          "data": {
            "text/plain": [
              "1"
            ]
          },
          "metadata": {
            "tags": []
          },
          "execution_count": 28
        }
      ]
    },
    {
      "cell_type": "code",
      "metadata": {
        "id": "SvWtEHb78vnV",
        "colab_type": "code",
        "colab": {
          "base_uri": "https://localhost:8080/",
          "height": 191
        },
        "outputId": "14bb7eb4-ebc6-49cb-cb1c-cbed1ce6f0dd"
      },
      "source": [
        "train.head()"
      ],
      "execution_count": 29,
      "outputs": [
        {
          "output_type": "execute_result",
          "data": {
            "text/html": [
              "<div>\n",
              "<style scoped>\n",
              "    .dataframe tbody tr th:only-of-type {\n",
              "        vertical-align: middle;\n",
              "    }\n",
              "\n",
              "    .dataframe tbody tr th {\n",
              "        vertical-align: top;\n",
              "    }\n",
              "\n",
              "    .dataframe thead th {\n",
              "        text-align: right;\n",
              "    }\n",
              "</style>\n",
              "<table border=\"1\" class=\"dataframe\">\n",
              "  <thead>\n",
              "    <tr style=\"text-align: right;\">\n",
              "      <th></th>\n",
              "      <th>Inspection ID</th>\n",
              "      <th>DBA Name</th>\n",
              "      <th>Address</th>\n",
              "      <th>Inspection Date</th>\n",
              "      <th>Inspection Type</th>\n",
              "      <th>Fail</th>\n",
              "    </tr>\n",
              "  </thead>\n",
              "  <tbody>\n",
              "    <tr>\n",
              "      <th>20735</th>\n",
              "      <td>1158273</td>\n",
              "      <td>ALL FAITH PAVILION</td>\n",
              "      <td>3500 S GILES AVE</td>\n",
              "      <td>2012-04-20T00:00:00</td>\n",
              "      <td>Canvass</td>\n",
              "      <td>1</td>\n",
              "    </tr>\n",
              "    <tr>\n",
              "      <th>46561</th>\n",
              "      <td>1234851</td>\n",
              "      <td>PHIL STEFANI SIGNATURE EVENTS</td>\n",
              "      <td>1300 W HUBBARD ST</td>\n",
              "      <td>2012-08-23T00:00:00</td>\n",
              "      <td>Canvass</td>\n",
              "      <td>0</td>\n",
              "    </tr>\n",
              "    <tr>\n",
              "      <th>23036</th>\n",
              "      <td>1307709</td>\n",
              "      <td>FADI #3 MINI MART &amp; DELI</td>\n",
              "      <td>1001 W 59TH ST</td>\n",
              "      <td>2014-10-21T00:00:00</td>\n",
              "      <td>License Re-Inspection</td>\n",
              "      <td>0</td>\n",
              "    </tr>\n",
              "    <tr>\n",
              "      <th>21866</th>\n",
              "      <td>1464236</td>\n",
              "      <td>Sullivan  (H/S)</td>\n",
              "      <td>6631 N BOSWORTH AVE</td>\n",
              "      <td>2014-04-22T00:00:00</td>\n",
              "      <td>Canvass Re-Inspection</td>\n",
              "      <td>0</td>\n",
              "    </tr>\n",
              "    <tr>\n",
              "      <th>9513</th>\n",
              "      <td>2261822</td>\n",
              "      <td>Brentano</td>\n",
              "      <td>2723 N Fairfield</td>\n",
              "      <td>2019-02-11T00:00:00</td>\n",
              "      <td>Canvass</td>\n",
              "      <td>0</td>\n",
              "    </tr>\n",
              "  </tbody>\n",
              "</table>\n",
              "</div>"
            ],
            "text/plain": [
              "       Inspection ID  ... Fail\n",
              "20735        1158273  ...    1\n",
              "46561        1234851  ...    0\n",
              "23036        1307709  ...    0\n",
              "21866        1464236  ...    0\n",
              "9513         2261822  ...    0\n",
              "\n",
              "[5 rows x 6 columns]"
            ]
          },
          "metadata": {
            "tags": []
          },
          "execution_count": 29
        }
      ]
    },
    {
      "cell_type": "code",
      "metadata": {
        "id": "e-K36qls-uHm",
        "colab_type": "code",
        "colab": {}
      },
      "source": [
        "import seaborn as sns\n",
        "from sklearn.model_selection import train_test_split\n",
        "\n",
        "target='Fail'\n",
        "features= train.columns.drop('Fail')\n",
        "\n",
        "train,val= train_test_split(train, train_size= .80, random_state=2)"
      ],
      "execution_count": 0,
      "outputs": []
    },
    {
      "cell_type": "code",
      "metadata": {
        "id": "SvRvnmVP_Luw",
        "colab_type": "code",
        "colab": {
          "base_uri": "https://localhost:8080/",
          "height": 33
        },
        "outputId": "f9596d92-f7f3-49e6-e69a-ab28c664dd62"
      },
      "source": [
        "train.shape, val.shape"
      ],
      "execution_count": 31,
      "outputs": [
        {
          "output_type": "execute_result",
          "data": {
            "text/plain": [
              "((26580, 6), (6645, 6))"
            ]
          },
          "metadata": {
            "tags": []
          },
          "execution_count": 31
        }
      ]
    },
    {
      "cell_type": "code",
      "metadata": {
        "id": "8iwLFtvC_iME",
        "colab_type": "code",
        "colab": {}
      },
      "source": [
        "X_train = train[features]\n",
        "y_train = train[target]\n",
        "X_val = val[features]\n",
        "y_val = val[target]\n",
        "X_test = test[features]\n",
        "y_test = test[target]"
      ],
      "execution_count": 0,
      "outputs": []
    },
    {
      "cell_type": "code",
      "metadata": {
        "id": "DHC8aohz_5d2",
        "colab_type": "code",
        "colab": {
          "base_uri": "https://localhost:8080/",
          "height": 66
        },
        "outputId": "dd240790-2b7c-4d0d-f67b-b4a06f0d2603"
      },
      "source": [
        "y_train.value_counts(normalize=True)"
      ],
      "execution_count": 33,
      "outputs": [
        {
          "output_type": "execute_result",
          "data": {
            "text/plain": [
              "0    0.741008\n",
              "1    0.258992\n",
              "Name: Fail, dtype: float64"
            ]
          },
          "metadata": {
            "tags": []
          },
          "execution_count": 33
        }
      ]
    },
    {
      "cell_type": "markdown",
      "metadata": {
        "colab_type": "text",
        "id": "nB8CQnExGqzr"
      },
      "source": [
        "## Part 2: Modeling\n",
        "\n",
        "> **Fit a model** with the train set. (You may use scikit-learn, xgboost, or any other library.) Use cross-validation or do a three-way split (train/validate/test) and **estimate your ROC AUC** validation score.\n",
        ">\n",
        "> Use your model to **predict probabilities** for the test set. **Get an ROC AUC test score >= 0.60.**"
      ]
    },
    {
      "cell_type": "code",
      "metadata": {
        "colab_type": "code",
        "id": "YQ3hD2G1IbVH",
        "colab": {}
      },
      "source": [
        "import numpy as np\n",
        "from sklearn.metrics import accuracy_score\n",
        "from sklearn.pipeline import make_pipeline\n",
        "import category_encoders as ce\n",
        "from sklearn.ensemble import RandomForestClassifier\n",
        "from sklearn.impute import SimpleImputer"
      ],
      "execution_count": 0,
      "outputs": []
    },
    {
      "cell_type": "code",
      "metadata": {
        "id": "sAOSfyRkAuhx",
        "colab_type": "code",
        "colab": {
          "base_uri": "https://localhost:8080/",
          "height": 456
        },
        "outputId": "db5c326f-4d8c-45d2-ec6e-f8faec753406"
      },
      "source": [
        "pipeline = make_pipeline(\n",
        "    ce.OrdinalEncoder(),\n",
        "    RandomForestClassifier(n_estimators=200, n_jobs = -1)\n",
        ")\n",
        "\n",
        "pipeline.fit(X_train, y_train)"
      ],
      "execution_count": 35,
      "outputs": [
        {
          "output_type": "execute_result",
          "data": {
            "text/plain": [
              "Pipeline(memory=None,\n",
              "         steps=[('ordinalencoder',\n",
              "                 OrdinalEncoder(cols=['DBA Name', 'Address', 'Inspection Date',\n",
              "                                      'Inspection Type'],\n",
              "                                drop_invariant=False, handle_missing='value',\n",
              "                                handle_unknown='value',\n",
              "                                mapping=[{'col': 'DBA Name',\n",
              "                                          'data_type': dtype('O'),\n",
              "                                          'mapping': SUBWAY 48735                        1\n",
              "WOODLAWN NEIGHBORHOOD MARKET        2\n",
              "7-ELEVEN #33496C                    3\n",
              "MARRIOT MARQUIS CHICAGO             4\n",
              "CORNERSTONE CAFE                    5\n",
              "                                ...  \n",
              "ST. BEN...\n",
              "                 RandomForestClassifier(bootstrap=True, class_weight=None,\n",
              "                                        criterion='gini', max_depth=None,\n",
              "                                        max_features='auto',\n",
              "                                        max_leaf_nodes=None,\n",
              "                                        min_impurity_decrease=0.0,\n",
              "                                        min_impurity_split=None,\n",
              "                                        min_samples_leaf=1, min_samples_split=2,\n",
              "                                        min_weight_fraction_leaf=0.0,\n",
              "                                        n_estimators=200, n_jobs=-1,\n",
              "                                        oob_score=False, random_state=None,\n",
              "                                        verbose=0, warm_start=False))],\n",
              "         verbose=False)"
            ]
          },
          "metadata": {
            "tags": []
          },
          "execution_count": 35
        }
      ]
    },
    {
      "cell_type": "code",
      "metadata": {
        "id": "cFRfDUDJAux5",
        "colab_type": "code",
        "colab": {
          "base_uri": "https://localhost:8080/",
          "height": 33
        },
        "outputId": "41026f61-6e1c-4faf-887c-737c86e2f7dc"
      },
      "source": [
        "# Predicting accuracy score\n",
        "y_pred = pipeline.predict(X_val)\n",
        "accuracy_score(y_val,y_pred)"
      ],
      "execution_count": 38,
      "outputs": [
        {
          "output_type": "execute_result",
          "data": {
            "text/plain": [
              "0.7295711060948081"
            ]
          },
          "metadata": {
            "tags": []
          },
          "execution_count": 38
        }
      ]
    },
    {
      "cell_type": "code",
      "metadata": {
        "id": "5qJGavHpEcH6",
        "colab_type": "code",
        "colab": {
          "base_uri": "https://localhost:8080/",
          "height": 33
        },
        "outputId": "e6b3c5f6-c5c6-4abd-9e8b-9b7c54cff6eb"
      },
      "source": [
        "y_val.shape, y_pred.shape, X_val.shape"
      ],
      "execution_count": 39,
      "outputs": [
        {
          "output_type": "execute_result",
          "data": {
            "text/plain": [
              "((6645,), (6645,), (6645, 5))"
            ]
          },
          "metadata": {
            "tags": []
          },
          "execution_count": 39
        }
      ]
    },
    {
      "cell_type": "code",
      "metadata": {
        "id": "EBMthaokEl8g",
        "colab_type": "code",
        "colab": {}
      },
      "source": [
        "from sklearn.metrics import roc_curve\n",
        "from sklearn.metrics import roc_auc_score\n",
        "\n",
        "y_pred_proba = pipeline.predict_proba(X_val)[:,1]"
      ],
      "execution_count": 0,
      "outputs": []
    },
    {
      "cell_type": "code",
      "metadata": {
        "id": "Bci93vmnEmGL",
        "colab_type": "code",
        "colab": {
          "base_uri": "https://localhost:8080/",
          "height": 33
        },
        "outputId": "ee48f0c3-c5da-4753-dc88-5e65965e1d20"
      },
      "source": [
        "roc_auc_score(y_val, y_pred_proba)"
      ],
      "execution_count": 41,
      "outputs": [
        {
          "output_type": "execute_result",
          "data": {
            "text/plain": [
              "0.6547641700821479"
            ]
          },
          "metadata": {
            "tags": []
          },
          "execution_count": 41
        }
      ]
    },
    {
      "cell_type": "code",
      "metadata": {
        "id": "cJEVkieHEmM_",
        "colab_type": "code",
        "colab": {
          "base_uri": "https://localhost:8080/",
          "height": 33
        },
        "outputId": "a91a7858-bbaf-45bf-f773-5ec7a57782d3"
      },
      "source": [
        "y_pred_proba = pipeline.predict_proba(X_test)[:,1]\n",
        "roc_auc_score(y_test, y_pred_proba)"
      ],
      "execution_count": 42,
      "outputs": [
        {
          "output_type": "execute_result",
          "data": {
            "text/plain": [
              "0.6450494329158302"
            ]
          },
          "metadata": {
            "tags": []
          },
          "execution_count": 42
        }
      ]
    },
    {
      "cell_type": "markdown",
      "metadata": {
        "colab_type": "text",
        "id": "u98nLGBTMo9s"
      },
      "source": [
        "## Part 3: Visualization\n",
        "\n",
        "> Make visualizations for model interpretation. (You may use any libraries.) Choose two of these types:\n",
        ">\n",
        "> - Permutation Importances\n",
        "> - Partial Dependence Plot, 1 feature isolation\n",
        "> - Partial Dependence Plot, 2 features interaction\n",
        "> - Shapley Values"
      ]
    },
    {
      "cell_type": "code",
      "metadata": {
        "colab_type": "code",
        "id": "_Q379i5CIeKY",
        "colab": {
          "base_uri": "https://localhost:8080/",
          "height": 191
        },
        "outputId": "924da3a1-7bd7-4379-9fd3-f821aa84b656"
      },
      "source": [
        "train.head()"
      ],
      "execution_count": 43,
      "outputs": [
        {
          "output_type": "execute_result",
          "data": {
            "text/html": [
              "<div>\n",
              "<style scoped>\n",
              "    .dataframe tbody tr th:only-of-type {\n",
              "        vertical-align: middle;\n",
              "    }\n",
              "\n",
              "    .dataframe tbody tr th {\n",
              "        vertical-align: top;\n",
              "    }\n",
              "\n",
              "    .dataframe thead th {\n",
              "        text-align: right;\n",
              "    }\n",
              "</style>\n",
              "<table border=\"1\" class=\"dataframe\">\n",
              "  <thead>\n",
              "    <tr style=\"text-align: right;\">\n",
              "      <th></th>\n",
              "      <th>Inspection ID</th>\n",
              "      <th>DBA Name</th>\n",
              "      <th>Address</th>\n",
              "      <th>Inspection Date</th>\n",
              "      <th>Inspection Type</th>\n",
              "      <th>Fail</th>\n",
              "    </tr>\n",
              "  </thead>\n",
              "  <tbody>\n",
              "    <tr>\n",
              "      <th>25815</th>\n",
              "      <td>1522678</td>\n",
              "      <td>SUBWAY 48735</td>\n",
              "      <td>317 N DEARBORN ST</td>\n",
              "      <td>2015-02-05T00:00:00</td>\n",
              "      <td>Canvass</td>\n",
              "      <td>0</td>\n",
              "    </tr>\n",
              "    <tr>\n",
              "      <th>18627</th>\n",
              "      <td>1975352</td>\n",
              "      <td>WOODLAWN NEIGHBORHOOD MARKET</td>\n",
              "      <td>460 E 61ST ST</td>\n",
              "      <td>2016-11-14T00:00:00</td>\n",
              "      <td>Canvass</td>\n",
              "      <td>0</td>\n",
              "    </tr>\n",
              "    <tr>\n",
              "      <th>45088</th>\n",
              "      <td>2081584</td>\n",
              "      <td>7-ELEVEN #33496C</td>\n",
              "      <td>535 S STATE ST</td>\n",
              "      <td>2017-09-06T00:00:00</td>\n",
              "      <td>Canvass</td>\n",
              "      <td>0</td>\n",
              "    </tr>\n",
              "    <tr>\n",
              "      <th>23027</th>\n",
              "      <td>2078971</td>\n",
              "      <td>MARRIOT MARQUIS CHICAGO</td>\n",
              "      <td>2121 S PRAIRIE AVE</td>\n",
              "      <td>2017-08-24T00:00:00</td>\n",
              "      <td>License Re-Inspection</td>\n",
              "      <td>0</td>\n",
              "    </tr>\n",
              "    <tr>\n",
              "      <th>46194</th>\n",
              "      <td>1441856</td>\n",
              "      <td>CORNERSTONE CAFE</td>\n",
              "      <td>2753 N WESTERN AVE</td>\n",
              "      <td>2015-04-28T00:00:00</td>\n",
              "      <td>Complaint</td>\n",
              "      <td>0</td>\n",
              "    </tr>\n",
              "  </tbody>\n",
              "</table>\n",
              "</div>"
            ],
            "text/plain": [
              "       Inspection ID                      DBA Name  ...        Inspection Type Fail\n",
              "25815        1522678                  SUBWAY 48735  ...                Canvass    0\n",
              "18627        1975352  WOODLAWN NEIGHBORHOOD MARKET  ...                Canvass    0\n",
              "45088        2081584              7-ELEVEN #33496C  ...                Canvass    0\n",
              "23027        2078971       MARRIOT MARQUIS CHICAGO  ...  License Re-Inspection    0\n",
              "46194        1441856              CORNERSTONE CAFE  ...              Complaint    0\n",
              "\n",
              "[5 rows x 6 columns]"
            ]
          },
          "metadata": {
            "tags": []
          },
          "execution_count": 43
        }
      ]
    },
    {
      "cell_type": "code",
      "metadata": {
        "id": "ndes-jcvE2FP",
        "colab_type": "code",
        "colab": {
          "base_uri": "https://localhost:8080/",
          "height": 552
        },
        "outputId": "4741da26-24cd-4ebd-f185-37d09678b982"
      },
      "source": [
        "test.head()"
      ],
      "execution_count": 45,
      "outputs": [
        {
          "output_type": "execute_result",
          "data": {
            "text/html": [
              "<div>\n",
              "<style scoped>\n",
              "    .dataframe tbody tr th:only-of-type {\n",
              "        vertical-align: middle;\n",
              "    }\n",
              "\n",
              "    .dataframe tbody tr th {\n",
              "        vertical-align: top;\n",
              "    }\n",
              "\n",
              "    .dataframe thead th {\n",
              "        text-align: right;\n",
              "    }\n",
              "</style>\n",
              "<table border=\"1\" class=\"dataframe\">\n",
              "  <thead>\n",
              "    <tr style=\"text-align: right;\">\n",
              "      <th></th>\n",
              "      <th>Inspection ID</th>\n",
              "      <th>DBA Name</th>\n",
              "      <th>AKA Name</th>\n",
              "      <th>License #</th>\n",
              "      <th>Facility Type</th>\n",
              "      <th>Risk</th>\n",
              "      <th>Address</th>\n",
              "      <th>City</th>\n",
              "      <th>State</th>\n",
              "      <th>Zip</th>\n",
              "      <th>Inspection Date</th>\n",
              "      <th>Inspection Type</th>\n",
              "      <th>Violations</th>\n",
              "      <th>Latitude</th>\n",
              "      <th>Longitude</th>\n",
              "      <th>Location</th>\n",
              "      <th>Fail</th>\n",
              "    </tr>\n",
              "  </thead>\n",
              "  <tbody>\n",
              "    <tr>\n",
              "      <th>0</th>\n",
              "      <td>114835</td>\n",
              "      <td>7 - ELEVEN</td>\n",
              "      <td>7 - ELEVEN</td>\n",
              "      <td>46907.0</td>\n",
              "      <td>Grocery Store</td>\n",
              "      <td>Risk 2 (Medium)</td>\n",
              "      <td>600 S DEARBORN</td>\n",
              "      <td>CHICAGO</td>\n",
              "      <td>IL</td>\n",
              "      <td>60605.0</td>\n",
              "      <td>2011-03-22T00:00:00</td>\n",
              "      <td>Canvass</td>\n",
              "      <td>33. FOOD AND NON-FOOD CONTACT EQUIPMENT UTENSI...</td>\n",
              "      <td>41.874481</td>\n",
              "      <td>-87.629357</td>\n",
              "      <td>{'longitude': '-87.62935653990546', 'latitude'...</td>\n",
              "      <td>0</td>\n",
              "    </tr>\n",
              "    <tr>\n",
              "      <th>1</th>\n",
              "      <td>1575555</td>\n",
              "      <td>TAQUERIA LOS GALLOS INC</td>\n",
              "      <td>TAQUERIA LOS GALLOS</td>\n",
              "      <td>1044860.0</td>\n",
              "      <td>Restaurant</td>\n",
              "      <td>Risk 1 (High)</td>\n",
              "      <td>4209-4211 W 26TH ST</td>\n",
              "      <td>CHICAGO</td>\n",
              "      <td>IL</td>\n",
              "      <td>60623.0</td>\n",
              "      <td>2015-09-15T00:00:00</td>\n",
              "      <td>Canvass</td>\n",
              "      <td>30. FOOD IN ORIGINAL CONTAINER, PROPERLY LABEL...</td>\n",
              "      <td>41.844070</td>\n",
              "      <td>-87.729807</td>\n",
              "      <td>{'longitude': '-87.72980747367433', 'latitude'...</td>\n",
              "      <td>0</td>\n",
              "    </tr>\n",
              "    <tr>\n",
              "      <th>2</th>\n",
              "      <td>671061</td>\n",
              "      <td>TROTTER'S TO GO</td>\n",
              "      <td>TROTTER'S TO GO</td>\n",
              "      <td>1092634.0</td>\n",
              "      <td>Restaurant</td>\n",
              "      <td>Risk 1 (High)</td>\n",
              "      <td>1337 W FULLERTON AVE</td>\n",
              "      <td>CHICAGO</td>\n",
              "      <td>IL</td>\n",
              "      <td>60614.0</td>\n",
              "      <td>2012-03-02T00:00:00</td>\n",
              "      <td>Canvass</td>\n",
              "      <td>34. FLOORS: CONSTRUCTED PER CODE, CLEANED, GOO...</td>\n",
              "      <td>41.925128</td>\n",
              "      <td>-87.662041</td>\n",
              "      <td>{'longitude': '-87.66204067083224', 'latitude'...</td>\n",
              "      <td>0</td>\n",
              "    </tr>\n",
              "    <tr>\n",
              "      <th>3</th>\n",
              "      <td>1965844</td>\n",
              "      <td>BIG G'S PIZZA</td>\n",
              "      <td>BIG G'S PIZZA</td>\n",
              "      <td>2334691.0</td>\n",
              "      <td>Restaurant</td>\n",
              "      <td>Risk 1 (High)</td>\n",
              "      <td>1132 W TAYLOR ST</td>\n",
              "      <td>CHICAGO</td>\n",
              "      <td>IL</td>\n",
              "      <td>60607.0</td>\n",
              "      <td>2016-10-04T00:00:00</td>\n",
              "      <td>Canvass Re-Inspection</td>\n",
              "      <td>14. PREVIOUS SERIOUS VIOLATION CORRECTED, 7-42...</td>\n",
              "      <td>41.869546</td>\n",
              "      <td>-87.655501</td>\n",
              "      <td>{'longitude': '-87.65550098867566', 'latitude'...</td>\n",
              "      <td>1</td>\n",
              "    </tr>\n",
              "    <tr>\n",
              "      <th>4</th>\n",
              "      <td>1751669</td>\n",
              "      <td>SOUTH CENTRAL COMMUNITY SERVICES ELEMENTARY</td>\n",
              "      <td>SOUTH CENTRAL COMMUNITY SERVICES ELEMENTARY</td>\n",
              "      <td>3491970.0</td>\n",
              "      <td>School</td>\n",
              "      <td>Risk 2 (Medium)</td>\n",
              "      <td>1021 E 83RD</td>\n",
              "      <td>CHICAGO</td>\n",
              "      <td>IL</td>\n",
              "      <td>60619.0</td>\n",
              "      <td>2016-04-08T00:00:00</td>\n",
              "      <td>Canvass</td>\n",
              "      <td>18. NO EVIDENCE OF RODENT OR INSECT OUTER OPEN...</td>\n",
              "      <td>41.743933</td>\n",
              "      <td>-87.599291</td>\n",
              "      <td>{'longitude': '-87.59929083361996', 'latitude'...</td>\n",
              "      <td>1</td>\n",
              "    </tr>\n",
              "  </tbody>\n",
              "</table>\n",
              "</div>"
            ],
            "text/plain": [
              "   Inspection ID  ... Fail\n",
              "0         114835  ...    0\n",
              "1        1575555  ...    0\n",
              "2         671061  ...    0\n",
              "3        1965844  ...    1\n",
              "4        1751669  ...    1\n",
              "\n",
              "[5 rows x 17 columns]"
            ]
          },
          "metadata": {
            "tags": []
          },
          "execution_count": 45
        }
      ]
    },
    {
      "cell_type": "code",
      "metadata": {
        "id": "T2uHfQj4MfC7",
        "colab_type": "code",
        "colab": {
          "base_uri": "https://localhost:8080/",
          "height": 607
        },
        "outputId": "4e705114-1637-4439-96f7-4dd0243db262"
      },
      "source": [
        "# Get feature importances\n",
        "rf = pipeline.named_steps['randomforestclassifier']\n",
        "importances = pd.Series(rf.feature_importances_, X_train.columns)\n",
        "\n",
        "# Plot feature importances\n",
        "%matplotlib inline\n",
        "import matplotlib.pyplot as plt\n",
        "\n",
        "n = 20\n",
        "plt.figure(figsize=(10,n/2))\n",
        "plt.title(f'Top {n} features')\n",
        "importances.sort_values()[-n:].plot.barh(color='pink');"
      ],
      "execution_count": 99,
      "outputs": [
        {
          "output_type": "display_data",
          "data": {
            "image/png": "[encoded data removed]",
            "text/plain": [
              "<Figure size 720x720 with 1 Axes>"
            ]
          },
          "metadata": {
            "tags": []
          }
        }
      ]
    },
    {
      "cell_type": "code",
      "metadata": {
        "id": "g54iOJZkE4i-",
        "colab_type": "code",
        "colab": {}
      },
      "source": [
        "import category_encoders as ce\n",
        "from sklearn.impute import SimpleImputer\n",
        "from sklearn.pipeline import make_pipeline\n",
        "from xgboost import XGBClassifier"
      ],
      "execution_count": 0,
      "outputs": []
    },
    {
      "cell_type": "code",
      "metadata": {
        "id": "DKeuuY7eE7Q5",
        "colab_type": "code",
        "colab": {
          "base_uri": "https://localhost:8080/",
          "height": 115
        },
        "outputId": "59629eb8-4207-4c62-9b43-40d8a2223f3b"
      },
      "source": [
        "import eli5\n",
        "from eli5.sklearn import PermutationImportance\n",
        "\n",
        "preprocessor = ce.OrdinalEncoder()\n",
        "\n",
        "X_train_transform = preprocessor.fit_transform(X_train)\n",
        "X_test_transform = preprocessor.transform(X_test)\n",
        "\n",
        "permuter = PermutationImportance(pipeline, scoring='roc_auc', n_iter=3)\n",
        "permuter.fit(X_test_transform, y_test)\n",
        "\n",
        "eli5.show_weights(permuter, top=None, feature_names = features.tolist())"
      ],
      "execution_count": 55,
      "outputs": [
        {
          "output_type": "execute_result",
          "data": {
            "text/html": [
              "\n",
              "    <style>\n",
              "    table.eli5-weights tr:hover {\n",
              "        filter: brightness(85%);\n",
              "    }\n",
              "</style>\n",
              "\n",
              "\n",
              "\n",
              "    \n",
              "\n",
              "    \n",
              "\n",
              "    \n",
              "\n",
              "    \n",
              "\n",
              "    \n",
              "\n",
              "    \n",
              "\n",
              "\n",
              "    \n",
              "\n",
              "    \n",
              "\n",
              "    \n",
              "\n",
              "    \n",
              "\n",
              "    \n",
              "\n",
              "    \n",
              "\n",
              "\n",
              "    \n",
              "\n",
              "    \n",
              "\n",
              "    \n",
              "\n",
              "    \n",
              "\n",
              "    \n",
              "        <table class=\"eli5-weights eli5-feature-importances\" style=\"border-collapse: collapse; border: none; margin-top: 0em; table-layout: auto;\">\n",
              "    <thead>\n",
              "    <tr style=\"border: none;\">\n",
              "        <th style=\"padding: 0 1em 0 0.5em; text-align: right; border: none;\">Weight</th>\n",
              "        <th style=\"padding: 0 0.5em 0 0.5em; text-align: left; border: none;\">Feature</th>\n",
              "    </tr>\n",
              "    </thead>\n",
              "    <tbody>\n",
              "    \n",
              "        <tr style=\"background-color: hsl(120, 100.00%, 80.00%); border: none;\">\n",
              "            <td style=\"padding: 0 1em 0 0.5em; text-align: right; border: none;\">\n",
              "                0.0393\n",
              "                \n",
              "                    &plusmn; 0.0038\n",
              "                \n",
              "            </td>\n",
              "            <td style=\"padding: 0 0.5em 0 0.5em; text-align: left; border: none;\">\n",
              "                Inspection ID\n",
              "            </td>\n",
              "        </tr>\n",
              "    \n",
              "        <tr style=\"background-color: hsl(0, 100.00%, 100.00%); border: none;\">\n",
              "            <td style=\"padding: 0 1em 0 0.5em; text-align: right; border: none;\">\n",
              "                0\n",
              "                \n",
              "                    &plusmn; 0.0000\n",
              "                \n",
              "            </td>\n",
              "            <td style=\"padding: 0 0.5em 0 0.5em; text-align: left; border: none;\">\n",
              "                Inspection Type\n",
              "            </td>\n",
              "        </tr>\n",
              "    \n",
              "        <tr style=\"background-color: hsl(0, 100.00%, 100.00%); border: none;\">\n",
              "            <td style=\"padding: 0 1em 0 0.5em; text-align: right; border: none;\">\n",
              "                0\n",
              "                \n",
              "                    &plusmn; 0.0000\n",
              "                \n",
              "            </td>\n",
              "            <td style=\"padding: 0 0.5em 0 0.5em; text-align: left; border: none;\">\n",
              "                Inspection Date\n",
              "            </td>\n",
              "        </tr>\n",
              "    \n",
              "        <tr style=\"background-color: hsl(0, 100.00%, 100.00%); border: none;\">\n",
              "            <td style=\"padding: 0 1em 0 0.5em; text-align: right; border: none;\">\n",
              "                0\n",
              "                \n",
              "                    &plusmn; 0.0000\n",
              "                \n",
              "            </td>\n",
              "            <td style=\"padding: 0 0.5em 0 0.5em; text-align: left; border: none;\">\n",
              "                Address\n",
              "            </td>\n",
              "        </tr>\n",
              "    \n",
              "        <tr style=\"background-color: hsl(0, 100.00%, 100.00%); border: none;\">\n",
              "            <td style=\"padding: 0 1em 0 0.5em; text-align: right; border: none;\">\n",
              "                0\n",
              "                \n",
              "                    &plusmn; 0.0000\n",
              "                \n",
              "            </td>\n",
              "            <td style=\"padding: 0 0.5em 0 0.5em; text-align: left; border: none;\">\n",
              "                DBA Name\n",
              "            </td>\n",
              "        </tr>\n",
              "    \n",
              "    \n",
              "    </tbody>\n",
              "</table>\n",
              "    \n",
              "\n",
              "    \n",
              "\n",
              "\n",
              "    \n",
              "\n",
              "    \n",
              "\n",
              "    \n",
              "\n",
              "    \n",
              "\n",
              "    \n",
              "\n",
              "    \n",
              "\n",
              "\n",
              "\n"
            ],
            "text/plain": [
              "<IPython.core.display.HTML object>"
            ]
          },
          "metadata": {
            "tags": []
          },
          "execution_count": 55
        }
      ]
    },
    {
      "cell_type": "code",
      "metadata": {
        "id": "o8yvBHDsFkcT",
        "colab_type": "code",
        "colab": {
          "base_uri": "https://localhost:8080/",
          "height": 115
        },
        "outputId": "99796be7-0ee4-4035-f94e-d0276538f7c0"
      },
      "source": [
        "row = X_train_transform.loc[1]\n",
        "row"
      ],
      "execution_count": 90,
      "outputs": [
        {
          "output_type": "execute_result",
          "data": {
            "text/plain": [
              "Inspection ID      555268\n",
              "DBA Name             7927\n",
              "Address              7476\n",
              "Inspection Date       128\n",
              "Inspection Type         7\n",
              "Name: 1, dtype: int64"
            ]
          },
          "metadata": {
            "tags": []
          },
          "execution_count": 90
        }
      ]
    },
    {
      "cell_type": "code",
      "metadata": {
        "id": "94qXzYVLIYj0",
        "colab_type": "code",
        "colab": {}
      },
      "source": [
        "from pdpbox.pdp import pdp_isolate, pdp_plot, pdp_interact, pdp_interact_plot"
      ],
      "execution_count": 0,
      "outputs": []
    },
    {
      "cell_type": "code",
      "metadata": {
        "id": "RnKl2Z44IfH6",
        "colab_type": "code",
        "colab": {}
      },
      "source": [
        "pdp_isolate = pdp_isolate(model = pipeline, \n",
        "                          dataset = X_train_transform, \n",
        "                          model_features = X_train_transform.columns, \n",
        "                          feature = 'Inspection ID'\n",
        "                         )"
      ],
      "execution_count": 0,
      "outputs": []
    },
    {
      "cell_type": "code",
      "metadata": {
        "id": "kk-VoAa9Itl6",
        "colab_type": "code",
        "colab": {
          "base_uri": "https://localhost:8080/",
          "height": 577
        },
        "outputId": "e31cea22-bc22-4830-eec4-9a2cc541645e"
      },
      "source": [
        "pdp_plot(pdp_isolate, \n",
        "         feature_name = 'Inspection ID'\n",
        "         );"
      ],
      "execution_count": 81,
      "outputs": [
        {
          "output_type": "display_data",
          "data": {
            "image/png": "[encoded data removed]",
            "text/plain": [
              "<Figure size 1080x684 with 2 Axes>"
            ]
          },
          "metadata": {
            "tags": []
          }
        }
      ]
    },
    {
      "cell_type": "code",
      "metadata": {
        "id": "f_UXzfxAJIJN",
        "colab_type": "code",
        "colab": {}
      },
      "source": [
        "features = ['Inspection Type', 'Inspection ID']\n",
        "interact = pdp_interact(model = pipeline, \n",
        "                          dataset = X_train_transform, \n",
        "                          model_features = X_train_transform.columns, \n",
        "                          features = features\n",
        "                         )"
      ],
      "execution_count": 0,
      "outputs": []
    },
    {
      "cell_type": "code",
      "metadata": {
        "id": "cJ0jnEW3JZeq",
        "colab_type": "code",
        "colab": {
          "base_uri": "https://localhost:8080/",
          "height": 581
        },
        "outputId": "2716a59f-d3bc-4c3a-aa4d-2f8358a35931"
      },
      "source": [
        "pdp_interact_plot(interact, plot_type = 'grid', feature_names = features);"
      ],
      "execution_count": 84,
      "outputs": [
        {
          "output_type": "display_data",
          "data": {
            "image/png": "[encoded data removed]",
            "text/plain": [
              "<Figure size 540x684 with 3 Axes>"
            ]
          },
          "metadata": {
            "tags": []
          }
        }
      ]
    }
  ]
}